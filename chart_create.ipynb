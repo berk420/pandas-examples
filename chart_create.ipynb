{
 "cells": [
  {
   "cell_type": "markdown",
   "id": "e56661ef",
   "metadata": {},
   "source": [
    "# Bar chart showing how many data with the same value\n",
    "\n",
    ">The dataframe example below is not a correct representation (normalization must be done).\n",
    "It was created for example only."
   ]
  },
  {
   "cell_type": "code",
   "execution_count": 14,
   "id": "1ef9182d",
   "metadata": {},
   "outputs": [],
   "source": [
    "import pandas as pd \n",
    "import matplotlib.pyplot as plt"
   ]
  },
  {
   "cell_type": "code",
   "execution_count": 15,
   "id": "5655ec66",
   "metadata": {},
   "outputs": [
    {
     "data": {
      "text/html": [
       "<div>\n",
       "<style scoped>\n",
       "    .dataframe tbody tr th:only-of-type {\n",
       "        vertical-align: middle;\n",
       "    }\n",
       "\n",
       "    .dataframe tbody tr th {\n",
       "        vertical-align: top;\n",
       "    }\n",
       "\n",
       "    .dataframe thead th {\n",
       "        text-align: right;\n",
       "    }\n",
       "</style>\n",
       "<table border=\"1\" class=\"dataframe\">\n",
       "  <thead>\n",
       "    <tr style=\"text-align: right;\">\n",
       "      <th></th>\n",
       "      <th>x</th>\n",
       "      <th>y</th>\n",
       "    </tr>\n",
       "  </thead>\n",
       "  <tbody>\n",
       "    <tr>\n",
       "      <th>0</th>\n",
       "      <td>name_sapce1</td>\n",
       "      <td>info</td>\n",
       "    </tr>\n",
       "    <tr>\n",
       "      <th>1</th>\n",
       "      <td>name_sapce1</td>\n",
       "      <td>info</td>\n",
       "    </tr>\n",
       "    <tr>\n",
       "      <th>2</th>\n",
       "      <td>name_sapce1</td>\n",
       "      <td>info</td>\n",
       "    </tr>\n",
       "    <tr>\n",
       "      <th>3</th>\n",
       "      <td>name_sapce2</td>\n",
       "      <td>info</td>\n",
       "    </tr>\n",
       "    <tr>\n",
       "      <th>4</th>\n",
       "      <td>name_sapce2</td>\n",
       "      <td>info</td>\n",
       "    </tr>\n",
       "  </tbody>\n",
       "</table>\n",
       "</div>"
      ],
      "text/plain": [
       "             x     y\n",
       "0  name_sapce1  info\n",
       "1  name_sapce1  info\n",
       "2  name_sapce1  info\n",
       "3  name_sapce2  info\n",
       "4  name_sapce2  info"
      ]
     },
     "execution_count": 15,
     "metadata": {},
     "output_type": "execute_result"
    }
   ],
   "source": [
    "df = pd.DataFrame({\n",
    "    'x': ['name_sapce1', 'name_sapce1', 'name_sapce1', 'name_sapce2','name_sapce2','name_sapce3','name_sapce4','name_sapce4','name_sapce5','name_sapce5','name_sapce5','name_sapce6','name_sapce7','name_sapce8'],\n",
    "    'y': ['info','info','info','info','info','info','info','info','info','info','info','info','info','info',]\n",
    "})\n",
    "df.head()"
   ]
  },
  {
   "cell_type": "code",
   "execution_count": 16,
   "id": "8d4c11fa",
   "metadata": {},
   "outputs": [],
   "source": [
    "name_leng=len(df[\"x\"])\n",
    "\n",
    "name_arr=[]\n",
    "for x in range(name_leng):\n",
    "    row_valeu=df.iloc[x]\n",
    "    name_arr.append(row_valeu[0])  \n",
    "    \n"
   ]
  },
  {
   "cell_type": "code",
   "execution_count": 17,
   "id": "ae4cd25e",
   "metadata": {},
   "outputs": [
    {
     "data": {
      "text/plain": [
       "['name_sapce1',\n",
       " 'name_sapce1',\n",
       " 'name_sapce1',\n",
       " 'name_sapce2',\n",
       " 'name_sapce2',\n",
       " 'name_sapce3',\n",
       " 'name_sapce4',\n",
       " 'name_sapce4',\n",
       " 'name_sapce5',\n",
       " 'name_sapce5',\n",
       " 'name_sapce5',\n",
       " 'name_sapce6',\n",
       " 'name_sapce7',\n",
       " 'name_sapce8']"
      ]
     },
     "execution_count": 17,
     "metadata": {},
     "output_type": "execute_result"
    }
   ],
   "source": [
    "name_arr"
   ]
  },
  {
   "cell_type": "code",
   "execution_count": 20,
   "id": "d0a42324",
   "metadata": {},
   "outputs": [
    {
     "name": "stdout",
     "output_type": "stream",
     "text": [
      "<class 'dict'>\n"
     ]
    }
   ],
   "source": [
    "dict_of_counts = {item:name_arr.count(item) for item in name_arr}\n",
    "print(type(dict_of_counts))"
   ]
  },
  {
   "cell_type": "code",
   "execution_count": 21,
   "id": "d7cbe1ef",
   "metadata": {},
   "outputs": [],
   "source": [
    "keys = dict_of_counts.keys()\n",
    "values = dict_of_counts.values()"
   ]
  },
  {
   "cell_type": "code",
   "execution_count": 22,
   "id": "e3711e57",
   "metadata": {},
   "outputs": [
    {
     "data": {
      "image/png": "[encoded data removed]",
      "text/plain": [
       "<Figure size 432x288 with 1 Axes>"
      ]
     },
     "metadata": {
      "needs_background": "light"
     },
     "output_type": "display_data"
    }
   ],
   "source": [
    "plt.bar(keys, values,width=0.5);"
   ]
  },
  {
   "cell_type": "code",
   "execution_count": 11,
   "id": "82f6da2c",
   "metadata": {},
   "outputs": [
    {
     "data": {
      "image/png": "[encoded data removed]",
      "text/plain": [
       "<Figure size 432x288 with 1 Axes>"
      ]
     },
     "metadata": {
      "needs_background": "light"
     },
     "output_type": "display_data"
    }
   ],
   "source": [
    "plt.bar(keys, values,width=0.5)\n",
    "plt.xticks(rotation=90);"
   ]
  }
 ],
 "metadata": {
  "kernelspec": {
   "display_name": "Python 3 (ipykernel)",
   "language": "python",
   "name": "python3"
  },
  "language_info": {
   "codemirror_mode": {
    "name": "ipython",
    "version": 3
   },
   "file_extension": ".py",
   "mimetype": "text/x-python",
   "name": "python",
   "nbconvert_exporter": "python",
   "pygments_lexer": "ipython3",
   "version": "3.9.7"
  }
 },
 "nbformat": 4,
 "nbformat_minor": 5
}
